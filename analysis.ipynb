{
 "cells": [
  {
   "cell_type": "code",
   "execution_count": 48,
   "id": "978c9f83-32b1-4e9e-8021-8035949e1aaa",
   "metadata": {},
   "outputs": [],
   "source": [
    "import pandas as pd"
   ]
  },
  {
   "cell_type": "code",
   "execution_count": 49,
   "id": "6556c15a-a07a-4a8d-bbbf-391df755407d",
   "metadata": {},
   "outputs": [
    {
     "data": {
      "text/html": [
       "<div>\n",
       "<style scoped>\n",
       "    .dataframe tbody tr th:only-of-type {\n",
       "        vertical-align: middle;\n",
       "    }\n",
       "\n",
       "    .dataframe tbody tr th {\n",
       "        vertical-align: top;\n",
       "    }\n",
       "\n",
       "    .dataframe thead th {\n",
       "        text-align: right;\n",
       "    }\n",
       "</style>\n",
       "<table border=\"1\" class=\"dataframe\">\n",
       "  <thead>\n",
       "    <tr style=\"text-align: right;\">\n",
       "      <th></th>\n",
       "      <th>Unnamed: 0</th>\n",
       "      <th>date</th>\n",
       "      <th>field</th>\n",
       "      <th>value</th>\n",
       "      <th>device_id</th>\n",
       "    </tr>\n",
       "  </thead>\n",
       "  <tbody>\n",
       "    <tr>\n",
       "      <th>0</th>\n",
       "      <td>0</td>\n",
       "      <td>2022-05-23 05:21:20.242008+00:00</td>\n",
       "      <td>battery_voltage</td>\n",
       "      <td>14.99837</td>\n",
       "      <td>SB1001</td>\n",
       "    </tr>\n",
       "    <tr>\n",
       "      <th>1</th>\n",
       "      <td>1</td>\n",
       "      <td>2022-05-23 05:21:51.183225+00:00</td>\n",
       "      <td>battery_voltage</td>\n",
       "      <td>14.99837</td>\n",
       "      <td>SB1001</td>\n",
       "    </tr>\n",
       "    <tr>\n",
       "      <th>2</th>\n",
       "      <td>2</td>\n",
       "      <td>2022-05-23 05:22:22.381353+00:00</td>\n",
       "      <td>battery_voltage</td>\n",
       "      <td>14.99837</td>\n",
       "      <td>SB1001</td>\n",
       "    </tr>\n",
       "    <tr>\n",
       "      <th>3</th>\n",
       "      <td>3</td>\n",
       "      <td>2022-05-23 05:22:52.605236+00:00</td>\n",
       "      <td>battery_voltage</td>\n",
       "      <td>14.99837</td>\n",
       "      <td>SB1001</td>\n",
       "    </tr>\n",
       "    <tr>\n",
       "      <th>4</th>\n",
       "      <td>4</td>\n",
       "      <td>2022-05-23 05:23:22.870146+00:00</td>\n",
       "      <td>battery_voltage</td>\n",
       "      <td>14.99837</td>\n",
       "      <td>SB1001</td>\n",
       "    </tr>\n",
       "  </tbody>\n",
       "</table>\n",
       "</div>"
      ],
      "text/plain": [
       "   Unnamed: 0                              date            field     value  \\\n",
       "0           0  2022-05-23 05:21:20.242008+00:00  battery_voltage  14.99837   \n",
       "1           1  2022-05-23 05:21:51.183225+00:00  battery_voltage  14.99837   \n",
       "2           2  2022-05-23 05:22:22.381353+00:00  battery_voltage  14.99837   \n",
       "3           3  2022-05-23 05:22:52.605236+00:00  battery_voltage  14.99837   \n",
       "4           4  2022-05-23 05:23:22.870146+00:00  battery_voltage  14.99837   \n",
       "\n",
       "  device_id  \n",
       "0    SB1001  \n",
       "1    SB1001  \n",
       "2    SB1001  \n",
       "3    SB1001  \n",
       "4    SB1001  "
      ]
     },
     "execution_count": 49,
     "metadata": {},
     "output_type": "execute_result"
    }
   ],
   "source": [
    "data_path = 'data/sensor_metrics.csv'\n",
    "df = pd.read_csv(data_path)\n",
    "df.head()"
   ]
  },
  {
   "cell_type": "code",
   "execution_count": 50,
   "id": "4a13000f-3a43-4b3f-9e1e-007666941eeb",
   "metadata": {},
   "outputs": [
    {
     "data": {
      "text/plain": [
       "battery_voltage    136464\n",
       "data_balance       136464\n",
       "db_level           136464\n",
       "last_recorded      136464\n",
       "last_uploaded      136464\n",
       "panel_voltage      136464\n",
       "signal_strength    136464\n",
       "Name: field, dtype: int64"
      ]
     },
     "execution_count": 50,
     "metadata": {},
     "output_type": "execute_result"
    }
   ],
   "source": [
    "# showing values in 'field'\n",
    "df['field'].value_counts()"
   ]
  },
  {
   "cell_type": "code",
   "execution_count": 51,
   "id": "fbcb1ef4-09b0-4b56-84fe-b8f199a5ee8b",
   "metadata": {},
   "outputs": [
    {
     "data": {
      "text/plain": [
       "count              955248\n",
       "unique                  7\n",
       "top       battery_voltage\n",
       "freq               136464\n",
       "Name: field, dtype: object"
      ]
     },
     "execution_count": 51,
     "metadata": {},
     "output_type": "execute_result"
    }
   ],
   "source": [
    "# 'count' portraying exact number of values within 'field'\n",
    "df['field'].describe()"
   ]
  },
  {
   "cell_type": "code",
   "execution_count": 52,
   "id": "464b191b-a53b-4ddb-a3cd-636062f3ea5a",
   "metadata": {},
   "outputs": [
    {
     "data": {
      "text/plain": [
       "array(['battery_voltage', 'data_balance', 'db_level', 'last_recorded',\n",
       "       'last_uploaded', 'panel_voltage', 'signal_strength'], dtype=object)"
      ]
     },
     "execution_count": 52,
     "metadata": {},
     "output_type": "execute_result"
    }
   ],
   "source": [
    "df.field.unique()"
   ]
  },
  {
   "cell_type": "code",
   "execution_count": 64,
   "id": "9ca08449-94a0-4519-9268-80c993eef85a",
   "metadata": {},
   "outputs": [
    {
     "data": {
      "text/html": [
       "<div>\n",
       "<style scoped>\n",
       "    .dataframe tbody tr th:only-of-type {\n",
       "        vertical-align: middle;\n",
       "    }\n",
       "\n",
       "    .dataframe tbody tr th {\n",
       "        vertical-align: top;\n",
       "    }\n",
       "\n",
       "    .dataframe thead th {\n",
       "        text-align: right;\n",
       "    }\n",
       "</style>\n",
       "<table border=\"1\" class=\"dataframe\">\n",
       "  <thead>\n",
       "    <tr style=\"text-align: right;\">\n",
       "      <th></th>\n",
       "      <th>Unnamed: 0</th>\n",
       "      <th>date</th>\n",
       "      <th>field</th>\n",
       "      <th>value</th>\n",
       "      <th>device_id</th>\n",
       "    </tr>\n",
       "  </thead>\n",
       "  <tbody>\n",
       "    <tr>\n",
       "      <th>272928</th>\n",
       "      <td>272928</td>\n",
       "      <td>2022-05-23 05:21:20.257379+00:00</td>\n",
       "      <td>db_level</td>\n",
       "      <td>80.15035</td>\n",
       "      <td>SB1001</td>\n",
       "    </tr>\n",
       "    <tr>\n",
       "      <th>272929</th>\n",
       "      <td>272929</td>\n",
       "      <td>2022-05-23 05:21:51.194415+00:00</td>\n",
       "      <td>db_level</td>\n",
       "      <td>70.13739</td>\n",
       "      <td>SB1001</td>\n",
       "    </tr>\n",
       "    <tr>\n",
       "      <th>272930</th>\n",
       "      <td>272930</td>\n",
       "      <td>2022-05-23 05:22:22.392657+00:00</td>\n",
       "      <td>db_level</td>\n",
       "      <td>102.26990</td>\n",
       "      <td>SB1001</td>\n",
       "    </tr>\n",
       "    <tr>\n",
       "      <th>272931</th>\n",
       "      <td>272931</td>\n",
       "      <td>2022-05-23 05:22:52.616672+00:00</td>\n",
       "      <td>db_level</td>\n",
       "      <td>78.22692</td>\n",
       "      <td>SB1001</td>\n",
       "    </tr>\n",
       "    <tr>\n",
       "      <th>272932</th>\n",
       "      <td>272932</td>\n",
       "      <td>2022-05-23 05:23:22.881239+00:00</td>\n",
       "      <td>db_level</td>\n",
       "      <td>65.71063</td>\n",
       "      <td>SB1001</td>\n",
       "    </tr>\n",
       "  </tbody>\n",
       "</table>\n",
       "</div>"
      ],
      "text/plain": [
       "        Unnamed: 0                              date     field      value  \\\n",
       "272928      272928  2022-05-23 05:21:20.257379+00:00  db_level   80.15035   \n",
       "272929      272929  2022-05-23 05:21:51.194415+00:00  db_level   70.13739   \n",
       "272930      272930  2022-05-23 05:22:22.392657+00:00  db_level  102.26990   \n",
       "272931      272931  2022-05-23 05:22:52.616672+00:00  db_level   78.22692   \n",
       "272932      272932  2022-05-23 05:23:22.881239+00:00  db_level   65.71063   \n",
       "\n",
       "       device_id  \n",
       "272928    SB1001  \n",
       "272929    SB1001  \n",
       "272930    SB1001  \n",
       "272931    SB1001  \n",
       "272932    SB1001  "
      ]
     },
     "execution_count": 64,
     "metadata": {},
     "output_type": "execute_result"
    }
   ],
   "source": [
    "# filtering out other values except for 'db_level_\n",
    "df_field_data = ['db_level']\n",
    "new_df = df[df.field.isin(df_field_data)]\n",
    "new_df.head()"
   ]
  },
  {
   "cell_type": "code",
   "execution_count": null,
   "id": "7f0aca52-b6ef-4657-a0b0-e65640c5ac94",
   "metadata": {},
   "outputs": [],
   "source": []
  }
 ],
 "metadata": {
  "kernelspec": {
   "display_name": "Python 3 (ipykernel)",
   "language": "python",
   "name": "python3"
  },
  "language_info": {
   "codemirror_mode": {
    "name": "ipython",
    "version": 3
   },
   "file_extension": ".py",
   "mimetype": "text/x-python",
   "name": "python",
   "nbconvert_exporter": "python",
   "pygments_lexer": "ipython3",
   "version": "3.9.6"
  },
  "vscode": {
   "interpreter": {
    "hash": "82ed002fa2d4956f5c6aec99bcefe0f73a9f79882f3c9e2319b14958a5896ac5"
   }
  }
 },
 "nbformat": 4,
 "nbformat_minor": 5
}
