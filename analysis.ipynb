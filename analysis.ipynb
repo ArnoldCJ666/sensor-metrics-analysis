{
 "cells": [
  {
   "cell_type": "code",
   "execution_count": 1,
   "id": "978c9f83-32b1-4e9e-8021-8035949e1aaa",
   "metadata": {
    "tags": []
   },
   "outputs": [],
   "source": [
    "import pandas as pd\n",
    "import numpy as np\n",
    "import matplotlib.pyplot as plt\n",
    "import seaborn as sns\n"
   ]
  },
  {
   "cell_type": "code",
   "execution_count": 2,
   "id": "6556c15a-a07a-4a8d-bbbf-391df755407d",
   "metadata": {},
   "outputs": [
    {
     "data": {
      "text/html": [
       "<div>\n",
       "<style scoped>\n",
       "    .dataframe tbody tr th:only-of-type {\n",
       "        vertical-align: middle;\n",
       "    }\n",
       "\n",
       "    .dataframe tbody tr th {\n",
       "        vertical-align: top;\n",
       "    }\n",
       "\n",
       "    .dataframe thead th {\n",
       "        text-align: right;\n",
       "    }\n",
       "</style>\n",
       "<table border=\"1\" class=\"dataframe\">\n",
       "  <thead>\n",
       "    <tr style=\"text-align: right;\">\n",
       "      <th></th>\n",
       "      <th>Unnamed: 0</th>\n",
       "      <th>date</th>\n",
       "      <th>field</th>\n",
       "      <th>value</th>\n",
       "      <th>device_id</th>\n",
       "    </tr>\n",
       "  </thead>\n",
       "  <tbody>\n",
       "    <tr>\n",
       "      <th>0</th>\n",
       "      <td>0</td>\n",
       "      <td>2022-05-23 05:21:20.242008+00:00</td>\n",
       "      <td>battery_voltage</td>\n",
       "      <td>14.99837</td>\n",
       "      <td>SB1001</td>\n",
       "    </tr>\n",
       "    <tr>\n",
       "      <th>1</th>\n",
       "      <td>1</td>\n",
       "      <td>2022-05-23 05:21:51.183225+00:00</td>\n",
       "      <td>battery_voltage</td>\n",
       "      <td>14.99837</td>\n",
       "      <td>SB1001</td>\n",
       "    </tr>\n",
       "    <tr>\n",
       "      <th>2</th>\n",
       "      <td>2</td>\n",
       "      <td>2022-05-23 05:22:22.381353+00:00</td>\n",
       "      <td>battery_voltage</td>\n",
       "      <td>14.99837</td>\n",
       "      <td>SB1001</td>\n",
       "    </tr>\n",
       "    <tr>\n",
       "      <th>3</th>\n",
       "      <td>3</td>\n",
       "      <td>2022-05-23 05:22:52.605236+00:00</td>\n",
       "      <td>battery_voltage</td>\n",
       "      <td>14.99837</td>\n",
       "      <td>SB1001</td>\n",
       "    </tr>\n",
       "    <tr>\n",
       "      <th>4</th>\n",
       "      <td>4</td>\n",
       "      <td>2022-05-23 05:23:22.870146+00:00</td>\n",
       "      <td>battery_voltage</td>\n",
       "      <td>14.99837</td>\n",
       "      <td>SB1001</td>\n",
       "    </tr>\n",
       "  </tbody>\n",
       "</table>\n",
       "</div>"
      ],
      "text/plain": [
       "   Unnamed: 0                              date            field     value  \\\n",
       "0           0  2022-05-23 05:21:20.242008+00:00  battery_voltage  14.99837   \n",
       "1           1  2022-05-23 05:21:51.183225+00:00  battery_voltage  14.99837   \n",
       "2           2  2022-05-23 05:22:22.381353+00:00  battery_voltage  14.99837   \n",
       "3           3  2022-05-23 05:22:52.605236+00:00  battery_voltage  14.99837   \n",
       "4           4  2022-05-23 05:23:22.870146+00:00  battery_voltage  14.99837   \n",
       "\n",
       "  device_id  \n",
       "0    SB1001  \n",
       "1    SB1001  \n",
       "2    SB1001  \n",
       "3    SB1001  \n",
       "4    SB1001  "
      ]
     },
     "execution_count": 2,
     "metadata": {},
     "output_type": "execute_result"
    }
   ],
   "source": [
    "data_path = 'data/sensor_metrics.csv'\n",
    "df = pd.read_csv(data_path)\n",
    "df.head()"
   ]
  },
  {
   "cell_type": "code",
   "execution_count": 3,
   "id": "4a13000f-3a43-4b3f-9e1e-007666941eeb",
   "metadata": {},
   "outputs": [
    {
     "data": {
      "text/plain": [
       "battery_voltage    136464\n",
       "data_balance       136464\n",
       "db_level           136464\n",
       "last_recorded      136464\n",
       "last_uploaded      136464\n",
       "panel_voltage      136464\n",
       "signal_strength    136464\n",
       "Name: field, dtype: int64"
      ]
     },
     "execution_count": 3,
     "metadata": {},
     "output_type": "execute_result"
    }
   ],
   "source": [
    "# showing values in 'field'\n",
    "df['field'].value_counts()"
   ]
  },
  {
   "cell_type": "code",
   "execution_count": 4,
   "id": "fbcb1ef4-09b0-4b56-84fe-b8f199a5ee8b",
   "metadata": {},
   "outputs": [
    {
     "data": {
      "text/plain": [
       "count              955248\n",
       "unique                  7\n",
       "top       battery_voltage\n",
       "freq               136464\n",
       "Name: field, dtype: object"
      ]
     },
     "execution_count": 4,
     "metadata": {},
     "output_type": "execute_result"
    }
   ],
   "source": [
    "# 'count' portraying exact number of values within 'field'\n",
    "df['field'].describe()"
   ]
  },
  {
   "cell_type": "code",
   "execution_count": 5,
   "id": "464b191b-a53b-4ddb-a3cd-636062f3ea5a",
   "metadata": {},
   "outputs": [
    {
     "data": {
      "text/plain": [
       "array(['battery_voltage', 'data_balance', 'db_level', 'last_recorded',\n",
       "       'last_uploaded', 'panel_voltage', 'signal_strength'], dtype=object)"
      ]
     },
     "execution_count": 5,
     "metadata": {},
     "output_type": "execute_result"
    }
   ],
   "source": [
    "df.field.unique()"
   ]
  },
  {
   "cell_type": "code",
   "execution_count": 6,
   "id": "9ca08449-94a0-4519-9268-80c993eef85a",
   "metadata": {},
   "outputs": [
    {
     "data": {
      "text/html": [
       "<div>\n",
       "<style scoped>\n",
       "    .dataframe tbody tr th:only-of-type {\n",
       "        vertical-align: middle;\n",
       "    }\n",
       "\n",
       "    .dataframe tbody tr th {\n",
       "        vertical-align: top;\n",
       "    }\n",
       "\n",
       "    .dataframe thead th {\n",
       "        text-align: right;\n",
       "    }\n",
       "</style>\n",
       "<table border=\"1\" class=\"dataframe\">\n",
       "  <thead>\n",
       "    <tr style=\"text-align: right;\">\n",
       "      <th></th>\n",
       "      <th>Unnamed: 0</th>\n",
       "      <th>date</th>\n",
       "      <th>field</th>\n",
       "      <th>value</th>\n",
       "      <th>device_id</th>\n",
       "    </tr>\n",
       "  </thead>\n",
       "  <tbody>\n",
       "    <tr>\n",
       "      <th>272928</th>\n",
       "      <td>272928</td>\n",
       "      <td>2022-05-23 05:21:20.257379+00:00</td>\n",
       "      <td>db_level</td>\n",
       "      <td>80.15035</td>\n",
       "      <td>SB1001</td>\n",
       "    </tr>\n",
       "    <tr>\n",
       "      <th>272929</th>\n",
       "      <td>272929</td>\n",
       "      <td>2022-05-23 05:21:51.194415+00:00</td>\n",
       "      <td>db_level</td>\n",
       "      <td>70.13739</td>\n",
       "      <td>SB1001</td>\n",
       "    </tr>\n",
       "    <tr>\n",
       "      <th>272930</th>\n",
       "      <td>272930</td>\n",
       "      <td>2022-05-23 05:22:22.392657+00:00</td>\n",
       "      <td>db_level</td>\n",
       "      <td>102.26990</td>\n",
       "      <td>SB1001</td>\n",
       "    </tr>\n",
       "    <tr>\n",
       "      <th>272931</th>\n",
       "      <td>272931</td>\n",
       "      <td>2022-05-23 05:22:52.616672+00:00</td>\n",
       "      <td>db_level</td>\n",
       "      <td>78.22692</td>\n",
       "      <td>SB1001</td>\n",
       "    </tr>\n",
       "    <tr>\n",
       "      <th>272932</th>\n",
       "      <td>272932</td>\n",
       "      <td>2022-05-23 05:23:22.881239+00:00</td>\n",
       "      <td>db_level</td>\n",
       "      <td>65.71063</td>\n",
       "      <td>SB1001</td>\n",
       "    </tr>\n",
       "  </tbody>\n",
       "</table>\n",
       "</div>"
      ],
      "text/plain": [
       "        Unnamed: 0                              date     field      value  \\\n",
       "272928      272928  2022-05-23 05:21:20.257379+00:00  db_level   80.15035   \n",
       "272929      272929  2022-05-23 05:21:51.194415+00:00  db_level   70.13739   \n",
       "272930      272930  2022-05-23 05:22:22.392657+00:00  db_level  102.26990   \n",
       "272931      272931  2022-05-23 05:22:52.616672+00:00  db_level   78.22692   \n",
       "272932      272932  2022-05-23 05:23:22.881239+00:00  db_level   65.71063   \n",
       "\n",
       "       device_id  \n",
       "272928    SB1001  \n",
       "272929    SB1001  \n",
       "272930    SB1001  \n",
       "272931    SB1001  \n",
       "272932    SB1001  "
      ]
     },
     "execution_count": 6,
     "metadata": {},
     "output_type": "execute_result"
    }
   ],
   "source": [
    "# filtering out other values except for 'db_level_\n",
    "df_field_data = ['db_level']\n",
    "new_df = df[df.field.isin(df_field_data)]\n",
    "new_df.head()"
   ]
  },
  {
   "cell_type": "code",
   "execution_count": 7,
   "id": "7f0aca52-b6ef-4657-a0b0-e65640c5ac94",
   "metadata": {},
   "outputs": [
    {
     "data": {
      "text/html": [
       "<div>\n",
       "<style scoped>\n",
       "    .dataframe tbody tr th:only-of-type {\n",
       "        vertical-align: middle;\n",
       "    }\n",
       "\n",
       "    .dataframe tbody tr th {\n",
       "        vertical-align: top;\n",
       "    }\n",
       "\n",
       "    .dataframe thead th {\n",
       "        text-align: right;\n",
       "    }\n",
       "</style>\n",
       "<table border=\"1\" class=\"dataframe\">\n",
       "  <thead>\n",
       "    <tr style=\"text-align: right;\">\n",
       "      <th></th>\n",
       "      <th>Unnamed: 0</th>\n",
       "      <th>date</th>\n",
       "      <th>field</th>\n",
       "      <th>value</th>\n",
       "      <th>device_id</th>\n",
       "    </tr>\n",
       "  </thead>\n",
       "  <tbody>\n",
       "    <tr>\n",
       "      <th>272928</th>\n",
       "      <td>272928</td>\n",
       "      <td>2022-05-23 05:21:20.257379+00:00</td>\n",
       "      <td>db_level</td>\n",
       "      <td>80.15035</td>\n",
       "      <td>SB1001</td>\n",
       "    </tr>\n",
       "    <tr>\n",
       "      <th>272929</th>\n",
       "      <td>272929</td>\n",
       "      <td>2022-05-23 05:21:51.194415+00:00</td>\n",
       "      <td>db_level</td>\n",
       "      <td>70.13739</td>\n",
       "      <td>SB1001</td>\n",
       "    </tr>\n",
       "    <tr>\n",
       "      <th>272930</th>\n",
       "      <td>272930</td>\n",
       "      <td>2022-05-23 05:22:22.392657+00:00</td>\n",
       "      <td>db_level</td>\n",
       "      <td>102.26990</td>\n",
       "      <td>SB1001</td>\n",
       "    </tr>\n",
       "    <tr>\n",
       "      <th>272931</th>\n",
       "      <td>272931</td>\n",
       "      <td>2022-05-23 05:22:52.616672+00:00</td>\n",
       "      <td>db_level</td>\n",
       "      <td>78.22692</td>\n",
       "      <td>SB1001</td>\n",
       "    </tr>\n",
       "    <tr>\n",
       "      <th>272932</th>\n",
       "      <td>272932</td>\n",
       "      <td>2022-05-23 05:23:22.881239+00:00</td>\n",
       "      <td>db_level</td>\n",
       "      <td>65.71063</td>\n",
       "      <td>SB1001</td>\n",
       "    </tr>\n",
       "  </tbody>\n",
       "</table>\n",
       "</div>"
      ],
      "text/plain": [
       "        Unnamed: 0                              date     field      value  \\\n",
       "272928      272928  2022-05-23 05:21:20.257379+00:00  db_level   80.15035   \n",
       "272929      272929  2022-05-23 05:21:51.194415+00:00  db_level   70.13739   \n",
       "272930      272930  2022-05-23 05:22:22.392657+00:00  db_level  102.26990   \n",
       "272931      272931  2022-05-23 05:22:52.616672+00:00  db_level   78.22692   \n",
       "272932      272932  2022-05-23 05:23:22.881239+00:00  db_level   65.71063   \n",
       "\n",
       "       device_id  \n",
       "272928    SB1001  \n",
       "272929    SB1001  \n",
       "272930    SB1001  \n",
       "272931    SB1001  \n",
       "272932    SB1001  "
      ]
     },
     "execution_count": 7,
     "metadata": {},
     "output_type": "execute_result"
    }
   ],
   "source": [
    "new_df.head()"
   ]
  },
  {
   "cell_type": "code",
   "execution_count": 8,
   "id": "8ceca9a1-c47b-4a19-8fc0-fdcf675c1f1a",
   "metadata": {},
   "outputs": [
    {
     "data": {
      "text/html": [
       "<div>\n",
       "<style scoped>\n",
       "    .dataframe tbody tr th:only-of-type {\n",
       "        vertical-align: middle;\n",
       "    }\n",
       "\n",
       "    .dataframe tbody tr th {\n",
       "        vertical-align: top;\n",
       "    }\n",
       "\n",
       "    .dataframe thead th {\n",
       "        text-align: right;\n",
       "    }\n",
       "</style>\n",
       "<table border=\"1\" class=\"dataframe\">\n",
       "  <thead>\n",
       "    <tr style=\"text-align: right;\">\n",
       "      <th></th>\n",
       "      <th>Unnamed: 0</th>\n",
       "      <th>date</th>\n",
       "      <th>field</th>\n",
       "      <th>value</th>\n",
       "      <th>device_id</th>\n",
       "    </tr>\n",
       "  </thead>\n",
       "  <tbody>\n",
       "    <tr>\n",
       "      <th>272928</th>\n",
       "      <td>272928</td>\n",
       "      <td>2022-05-23 05:21:20.257379+00:00</td>\n",
       "      <td>db_level</td>\n",
       "      <td>80.15035</td>\n",
       "      <td>SB1001</td>\n",
       "    </tr>\n",
       "    <tr>\n",
       "      <th>272929</th>\n",
       "      <td>272929</td>\n",
       "      <td>2022-05-23 05:21:51.194415+00:00</td>\n",
       "      <td>db_level</td>\n",
       "      <td>70.13739</td>\n",
       "      <td>SB1001</td>\n",
       "    </tr>\n",
       "    <tr>\n",
       "      <th>272930</th>\n",
       "      <td>272930</td>\n",
       "      <td>2022-05-23 05:22:22.392657+00:00</td>\n",
       "      <td>db_level</td>\n",
       "      <td>102.26990</td>\n",
       "      <td>SB1001</td>\n",
       "    </tr>\n",
       "    <tr>\n",
       "      <th>272931</th>\n",
       "      <td>272931</td>\n",
       "      <td>2022-05-23 05:22:52.616672+00:00</td>\n",
       "      <td>db_level</td>\n",
       "      <td>78.22692</td>\n",
       "      <td>SB1001</td>\n",
       "    </tr>\n",
       "    <tr>\n",
       "      <th>272932</th>\n",
       "      <td>272932</td>\n",
       "      <td>2022-05-23 05:23:22.881239+00:00</td>\n",
       "      <td>db_level</td>\n",
       "      <td>65.71063</td>\n",
       "      <td>SB1001</td>\n",
       "    </tr>\n",
       "    <tr>\n",
       "      <th>...</th>\n",
       "      <td>...</td>\n",
       "      <td>...</td>\n",
       "      <td>...</td>\n",
       "      <td>...</td>\n",
       "      <td>...</td>\n",
       "    </tr>\n",
       "    <tr>\n",
       "      <th>409387</th>\n",
       "      <td>409387</td>\n",
       "      <td>2022-05-26 22:27:31.855684+00:00</td>\n",
       "      <td>db_level</td>\n",
       "      <td>79.60939</td>\n",
       "      <td>SB1013</td>\n",
       "    </tr>\n",
       "    <tr>\n",
       "      <th>409388</th>\n",
       "      <td>409388</td>\n",
       "      <td>2022-05-26 22:28:02.936844+00:00</td>\n",
       "      <td>db_level</td>\n",
       "      <td>54.64372</td>\n",
       "      <td>SB1013</td>\n",
       "    </tr>\n",
       "    <tr>\n",
       "      <th>409389</th>\n",
       "      <td>409389</td>\n",
       "      <td>2022-05-26 22:30:59.937044+00:00</td>\n",
       "      <td>db_level</td>\n",
       "      <td>0.00000</td>\n",
       "      <td>SB1013</td>\n",
       "    </tr>\n",
       "    <tr>\n",
       "      <th>409390</th>\n",
       "      <td>409390</td>\n",
       "      <td>2022-05-26 22:31:30.896429+00:00</td>\n",
       "      <td>db_level</td>\n",
       "      <td>0.00000</td>\n",
       "      <td>SB1013</td>\n",
       "    </tr>\n",
       "    <tr>\n",
       "      <th>409391</th>\n",
       "      <td>409391</td>\n",
       "      <td>2022-05-26 22:32:01.223286+00:00</td>\n",
       "      <td>db_level</td>\n",
       "      <td>49.67120</td>\n",
       "      <td>SB1013</td>\n",
       "    </tr>\n",
       "  </tbody>\n",
       "</table>\n",
       "<p>136464 rows × 5 columns</p>\n",
       "</div>"
      ],
      "text/plain": [
       "        Unnamed: 0                              date     field      value  \\\n",
       "272928      272928  2022-05-23 05:21:20.257379+00:00  db_level   80.15035   \n",
       "272929      272929  2022-05-23 05:21:51.194415+00:00  db_level   70.13739   \n",
       "272930      272930  2022-05-23 05:22:22.392657+00:00  db_level  102.26990   \n",
       "272931      272931  2022-05-23 05:22:52.616672+00:00  db_level   78.22692   \n",
       "272932      272932  2022-05-23 05:23:22.881239+00:00  db_level   65.71063   \n",
       "...            ...                               ...       ...        ...   \n",
       "409387      409387  2022-05-26 22:27:31.855684+00:00  db_level   79.60939   \n",
       "409388      409388  2022-05-26 22:28:02.936844+00:00  db_level   54.64372   \n",
       "409389      409389  2022-05-26 22:30:59.937044+00:00  db_level    0.00000   \n",
       "409390      409390  2022-05-26 22:31:30.896429+00:00  db_level    0.00000   \n",
       "409391      409391  2022-05-26 22:32:01.223286+00:00  db_level   49.67120   \n",
       "\n",
       "       device_id  \n",
       "272928    SB1001  \n",
       "272929    SB1001  \n",
       "272930    SB1001  \n",
       "272931    SB1001  \n",
       "272932    SB1001  \n",
       "...          ...  \n",
       "409387    SB1013  \n",
       "409388    SB1013  \n",
       "409389    SB1013  \n",
       "409390    SB1013  \n",
       "409391    SB1013  \n",
       "\n",
       "[136464 rows x 5 columns]"
      ]
     },
     "execution_count": 8,
     "metadata": {},
     "output_type": "execute_result"
    }
   ],
   "source": [
    "df[df[\"field\"]==\"db_level\"]"
   ]
  },
  {
   "cell_type": "code",
   "execution_count": 9,
   "id": "928eea63",
   "metadata": {},
   "outputs": [
    {
     "name": "stdout",
     "output_type": "stream",
     "text": [
      "SB1007    88566\n",
      "SB1005    18242\n",
      "SB1012    14821\n",
      "SB1001     7768\n",
      "SB1006     3794\n",
      "SB1002     2542\n",
      "SB1013      686\n",
      "SB1008       45\n",
      "Name: device_id, dtype: int64\n"
     ]
    }
   ],
   "source": [
    "sensor_df = new_df['device_id'].value_counts()\n",
    "print(sensor_df)"
   ]
  },
  {
   "cell_type": "code",
   "execution_count": 10,
   "id": "191aa930-9d88-4a8c-bc18-c347d6daf085",
   "metadata": {},
   "outputs": [
    {
     "data": {
      "image/png": "[encoded data removed]",
      "text/plain": [
       "<Figure size 432x288 with 1 Axes>"
      ]
     },
     "metadata": {
      "needs_background": "light"
     },
     "output_type": "display_data"
    }
   ],
   "source": [
    "fig,ax = plt.subplots()\n",
    "sensor_df.plot(ax = ax, kind = 'bar', ylabel = 'values',xlabel='sensor')\n",
    "plt.title('Barplot of sensor and records')\n",
    "plt.show()"
   ]
  },
  {
   "cell_type": "code",
   "execution_count": 23,
   "id": "a2c4dc0b-bbb4-4a04-b6ca-d8d5f51262d6",
   "metadata": {},
   "outputs": [
    {
     "data": {
      "text/plain": [
       "Text(0.5, 1.0, 'Line plot')"
      ]
     },
     "execution_count": 23,
     "metadata": {},
     "output_type": "execute_result"
    },
    {
     "data": {
      "image/png": "[encoded data removed]",
      "text/plain": [
       "<Figure size 864x576 with 1 Axes>"
      ]
     },
     "metadata": {
      "needs_background": "light"
     },
     "output_type": "display_data"
    }
   ],
   "source": [
    "plt.figure(figsize=(12,8))\n",
    "sns.lineplot(data=df, x='date', y='device_id')\n",
    "plt.xticks(rotation=15)\n",
    "plt.title('Line plot')"
   ]
  },
  {
   "cell_type": "code",
   "execution_count": 25,
   "id": "731b2eda-417f-4bd3-8499-6f33ce2b1f0b",
   "metadata": {},
   "outputs": [
    {
     "data": {
      "text/plain": [
       "<AxesSubplot:xlabel='date', ylabel='value'>"
      ]
     },
     "execution_count": 25,
     "metadata": {},
     "output_type": "execute_result"
    },
    {
     "data": {
      "image/png": "[encoded data removed]",
      "text/plain": [
       "<Figure size 864x576 with 1 Axes>"
      ]
     },
     "metadata": {
      "needs_background": "light"
     },
     "output_type": "display_data"
    }
   ],
   "source": [
    "plt.figure(figsize=(12,8))\n",
    "sns.lineplot(data=df, x=\"date\", y=\"value\", hue=\"device_id\")"
   ]
  },
  {
   "cell_type": "code",
   "execution_count": 16,
   "id": "d591a8d4-3224-41ab-8d4d-3113729fbce3",
   "metadata": {},
   "outputs": [
    {
     "data": {
      "text/plain": [
       "0        2022-05-23 05:21:20.242008+00:00\n",
       "1        2022-05-23 05:21:51.183225+00:00\n",
       "2        2022-05-23 05:22:22.381353+00:00\n",
       "3        2022-05-23 05:22:52.605236+00:00\n",
       "4        2022-05-23 05:23:22.870146+00:00\n",
       "                       ...               \n",
       "955243   2022-05-26 22:27:31.852231+00:00\n",
       "955244   2022-05-26 22:28:02.933391+00:00\n",
       "955245   2022-05-26 22:30:59.933363+00:00\n",
       "955246   2022-05-26 22:31:30.892709+00:00\n",
       "955247   2022-05-26 22:32:01.219158+00:00\n",
       "Name: date, Length: 955248, dtype: datetime64[ns, UTC]"
      ]
     },
     "execution_count": 16,
     "metadata": {},
     "output_type": "execute_result"
    }
   ],
   "source": [
    "# converting date-object to datetime\n",
    "df['date'] = pd.to_datetime(df['date'])\n",
    "df['date']"
   ]
  },
  {
   "cell_type": "code",
   "execution_count": 60,
   "id": "59ab9890-78f7-4d49-974f-b461e9cf7d70",
   "metadata": {},
   "outputs": [
    {
     "data": {
      "text/html": [
       "<div>\n",
       "<style scoped>\n",
       "    .dataframe tbody tr th:only-of-type {\n",
       "        vertical-align: middle;\n",
       "    }\n",
       "\n",
       "    .dataframe tbody tr th {\n",
       "        vertical-align: top;\n",
       "    }\n",
       "\n",
       "    .dataframe thead th {\n",
       "        text-align: right;\n",
       "    }\n",
       "</style>\n",
       "<table border=\"1\" class=\"dataframe\">\n",
       "  <thead>\n",
       "    <tr style=\"text-align: right;\">\n",
       "      <th></th>\n",
       "      <th>df</th>\n",
       "    </tr>\n",
       "  </thead>\n",
       "  <tbody>\n",
       "    <tr>\n",
       "      <th>2022-05-23</th>\n",
       "      <td>1</td>\n",
       "    </tr>\n",
       "    <tr>\n",
       "      <th>2022-05-24</th>\n",
       "      <td>2</td>\n",
       "    </tr>\n",
       "    <tr>\n",
       "      <th>2022-05-25</th>\n",
       "      <td>3</td>\n",
       "    </tr>\n",
       "    <tr>\n",
       "      <th>2022-05-26</th>\n",
       "      <td>4</td>\n",
       "    </tr>\n",
       "    <tr>\n",
       "      <th>2022-05-27</th>\n",
       "      <td>5</td>\n",
       "    </tr>\n",
       "    <tr>\n",
       "      <th>2022-05-28</th>\n",
       "      <td>6</td>\n",
       "    </tr>\n",
       "    <tr>\n",
       "      <th>2022-05-29</th>\n",
       "      <td>7</td>\n",
       "    </tr>\n",
       "    <tr>\n",
       "      <th>2022-05-30</th>\n",
       "      <td>8</td>\n",
       "    </tr>\n",
       "  </tbody>\n",
       "</table>\n",
       "</div>"
      ],
      "text/plain": [
       "            df\n",
       "2022-05-23   1\n",
       "2022-05-24   2\n",
       "2022-05-25   3\n",
       "2022-05-26   4\n",
       "2022-05-27   5\n",
       "2022-05-28   6\n",
       "2022-05-29   7\n",
       "2022-05-30   8"
      ]
     },
     "execution_count": 60,
     "metadata": {},
     "output_type": "execute_result"
    }
   ],
   "source": [
    "df1 = pd.date_range('2022-05-23', periods=6, freq='1D20min')\n",
    "df2 = pd.DataFrame({'df': [1, 2, 3, 4, 5, 6, 7, 8]}, index=i)\n",
    "df2"
   ]
  },
  {
   "cell_type": "code",
   "execution_count": 55,
   "id": "da459eee-27a3-4918-9ef5-d62332d4d517",
   "metadata": {},
   "outputs": [
    {
     "name": "stdout",
     "output_type": "stream",
     "text": [
      "            df\n",
      "2022-05-23   1\n",
      "2022-05-24   2\n",
      "2022-05-25   3\n",
      "2022-05-26   4\n",
      "2022-05-27   5\n",
      "2022-05-28   6\n",
      "2022-05-29   7\n",
      "2022-05-30   8\n"
     ]
    }
   ],
   "source": [
    "df2.between_time(start_time='10:00:00', end_time='6:00:00')\n",
    "print(df2)"
   ]
  },
  {
   "cell_type": "code",
   "execution_count": 56,
   "id": "773c2dde-ec1e-495f-bbf2-8ba23254cd17",
   "metadata": {},
   "outputs": [
    {
     "name": "stdout",
     "output_type": "stream",
     "text": [
      "            df\n",
      "2022-05-23   1\n",
      "2022-05-24   2\n",
      "2022-05-25   3\n",
      "2022-05-26   4\n",
      "2022-05-27   5\n",
      "2022-05-28   6\n",
      "2022-05-29   7\n",
      "2022-05-30   8\n"
     ]
    }
   ],
   "source": [
    "df2.between_time(start_time='22:00:00', end_time='6:00:00')\n",
    "print(df2)"
   ]
  },
  {
   "cell_type": "code",
   "execution_count": null,
   "id": "a6f497db-2310-4c74-8d34-2ba4b26bfa36",
   "metadata": {},
   "outputs": [],
   "source": []
  }
 ],
 "metadata": {
  "kernelspec": {
   "display_name": "Python 3 (ipykernel)",
   "language": "python",
   "name": "python3"
  },
  "language_info": {
   "codemirror_mode": {
    "name": "ipython",
    "version": 3
   },
   "file_extension": ".py",
   "mimetype": "text/x-python",
   "name": "python",
   "nbconvert_exporter": "python",
   "pygments_lexer": "ipython3",
   "version": "3.9.6"
  },
  "vscode": {
   "interpreter": {
    "hash": "82ed002fa2d4956f5c6aec99bcefe0f73a9f79882f3c9e2319b14958a5896ac5"
   }
  }
 },
 "nbformat": 4,
 "nbformat_minor": 5
}
