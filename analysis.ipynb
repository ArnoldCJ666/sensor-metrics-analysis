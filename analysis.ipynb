{
 "cells": [
  {
   "cell_type": "code",
   "execution_count": 139,
   "id": "978c9f83-32b1-4e9e-8021-8035949e1aaa",
   "metadata": {},
   "outputs": [],
   "source": [
    "import pandas as pd\n",
    "import matplotlib.pyplot as plt\n",
    "import matplotlib.dates\n",
    "from matplotlib import dates as mpl_dates\n",
    "from datetime import datetime, timedelta\n",
    "import seaborn as sns\n"
   ]
  },
  {
   "cell_type": "code",
   "execution_count": 103,
   "id": "6556c15a-a07a-4a8d-bbbf-391df755407d",
   "metadata": {},
   "outputs": [
    {
     "data": {
      "text/html": [
       "<div>\n",
       "<style scoped>\n",
       "    .dataframe tbody tr th:only-of-type {\n",
       "        vertical-align: middle;\n",
       "    }\n",
       "\n",
       "    .dataframe tbody tr th {\n",
       "        vertical-align: top;\n",
       "    }\n",
       "\n",
       "    .dataframe thead th {\n",
       "        text-align: right;\n",
       "    }\n",
       "</style>\n",
       "<table border=\"1\" class=\"dataframe\">\n",
       "  <thead>\n",
       "    <tr style=\"text-align: right;\">\n",
       "      <th></th>\n",
       "      <th>Unnamed: 0</th>\n",
       "      <th>date</th>\n",
       "      <th>field</th>\n",
       "      <th>value</th>\n",
       "      <th>device_id</th>\n",
       "    </tr>\n",
       "  </thead>\n",
       "  <tbody>\n",
       "    <tr>\n",
       "      <th>0</th>\n",
       "      <td>0</td>\n",
       "      <td>2022-05-23 05:21:20.242008+00:00</td>\n",
       "      <td>battery_voltage</td>\n",
       "      <td>14.99837</td>\n",
       "      <td>SB1001</td>\n",
       "    </tr>\n",
       "    <tr>\n",
       "      <th>1</th>\n",
       "      <td>1</td>\n",
       "      <td>2022-05-23 05:21:51.183225+00:00</td>\n",
       "      <td>battery_voltage</td>\n",
       "      <td>14.99837</td>\n",
       "      <td>SB1001</td>\n",
       "    </tr>\n",
       "    <tr>\n",
       "      <th>2</th>\n",
       "      <td>2</td>\n",
       "      <td>2022-05-23 05:22:22.381353+00:00</td>\n",
       "      <td>battery_voltage</td>\n",
       "      <td>14.99837</td>\n",
       "      <td>SB1001</td>\n",
       "    </tr>\n",
       "    <tr>\n",
       "      <th>3</th>\n",
       "      <td>3</td>\n",
       "      <td>2022-05-23 05:22:52.605236+00:00</td>\n",
       "      <td>battery_voltage</td>\n",
       "      <td>14.99837</td>\n",
       "      <td>SB1001</td>\n",
       "    </tr>\n",
       "    <tr>\n",
       "      <th>4</th>\n",
       "      <td>4</td>\n",
       "      <td>2022-05-23 05:23:22.870146+00:00</td>\n",
       "      <td>battery_voltage</td>\n",
       "      <td>14.99837</td>\n",
       "      <td>SB1001</td>\n",
       "    </tr>\n",
       "  </tbody>\n",
       "</table>\n",
       "</div>"
      ],
      "text/plain": [
       "   Unnamed: 0                              date            field     value  \\\n",
       "0           0  2022-05-23 05:21:20.242008+00:00  battery_voltage  14.99837   \n",
       "1           1  2022-05-23 05:21:51.183225+00:00  battery_voltage  14.99837   \n",
       "2           2  2022-05-23 05:22:22.381353+00:00  battery_voltage  14.99837   \n",
       "3           3  2022-05-23 05:22:52.605236+00:00  battery_voltage  14.99837   \n",
       "4           4  2022-05-23 05:23:22.870146+00:00  battery_voltage  14.99837   \n",
       "\n",
       "  device_id  \n",
       "0    SB1001  \n",
       "1    SB1001  \n",
       "2    SB1001  \n",
       "3    SB1001  \n",
       "4    SB1001  "
      ]
     },
     "execution_count": 103,
     "metadata": {},
     "output_type": "execute_result"
    }
   ],
   "source": [
    "data_path = 'data/sensor_metrics.csv'\n",
    "df = pd.read_csv(data_path)\n",
    "df.head()"
   ]
  },
  {
   "cell_type": "code",
   "execution_count": 104,
   "id": "4a13000f-3a43-4b3f-9e1e-007666941eeb",
   "metadata": {},
   "outputs": [
    {
     "data": {
      "text/plain": [
       "battery_voltage    136464\n",
       "data_balance       136464\n",
       "db_level           136464\n",
       "last_recorded      136464\n",
       "last_uploaded      136464\n",
       "panel_voltage      136464\n",
       "signal_strength    136464\n",
       "Name: field, dtype: int64"
      ]
     },
     "execution_count": 104,
     "metadata": {},
     "output_type": "execute_result"
    }
   ],
   "source": [
    "# showing values in 'field'\n",
    "df['field'].value_counts()"
   ]
  },
  {
   "cell_type": "code",
   "execution_count": 105,
   "id": "fbcb1ef4-09b0-4b56-84fe-b8f199a5ee8b",
   "metadata": {},
   "outputs": [
    {
     "data": {
      "text/plain": [
       "count              955248\n",
       "unique                  7\n",
       "top       battery_voltage\n",
       "freq               136464\n",
       "Name: field, dtype: object"
      ]
     },
     "execution_count": 105,
     "metadata": {},
     "output_type": "execute_result"
    }
   ],
   "source": [
    "# 'count' portraying exact number of values within 'field'\n",
    "df['field'].describe()"
   ]
  },
  {
   "cell_type": "code",
   "execution_count": 106,
   "id": "464b191b-a53b-4ddb-a3cd-636062f3ea5a",
   "metadata": {},
   "outputs": [
    {
     "data": {
      "text/plain": [
       "array(['battery_voltage', 'data_balance', 'db_level', 'last_recorded',\n",
       "       'last_uploaded', 'panel_voltage', 'signal_strength'], dtype=object)"
      ]
     },
     "execution_count": 106,
     "metadata": {},
     "output_type": "execute_result"
    }
   ],
   "source": [
    "df.field.unique()"
   ]
  },
  {
   "cell_type": "code",
   "execution_count": 107,
   "id": "9ca08449-94a0-4519-9268-80c993eef85a",
   "metadata": {},
   "outputs": [
    {
     "data": {
      "text/html": [
       "<div>\n",
       "<style scoped>\n",
       "    .dataframe tbody tr th:only-of-type {\n",
       "        vertical-align: middle;\n",
       "    }\n",
       "\n",
       "    .dataframe tbody tr th {\n",
       "        vertical-align: top;\n",
       "    }\n",
       "\n",
       "    .dataframe thead th {\n",
       "        text-align: right;\n",
       "    }\n",
       "</style>\n",
       "<table border=\"1\" class=\"dataframe\">\n",
       "  <thead>\n",
       "    <tr style=\"text-align: right;\">\n",
       "      <th></th>\n",
       "      <th>Unnamed: 0</th>\n",
       "      <th>date</th>\n",
       "      <th>field</th>\n",
       "      <th>value</th>\n",
       "      <th>device_id</th>\n",
       "    </tr>\n",
       "  </thead>\n",
       "  <tbody>\n",
       "    <tr>\n",
       "      <th>272928</th>\n",
       "      <td>272928</td>\n",
       "      <td>2022-05-23 05:21:20.257379+00:00</td>\n",
       "      <td>db_level</td>\n",
       "      <td>80.15035</td>\n",
       "      <td>SB1001</td>\n",
       "    </tr>\n",
       "    <tr>\n",
       "      <th>272929</th>\n",
       "      <td>272929</td>\n",
       "      <td>2022-05-23 05:21:51.194415+00:00</td>\n",
       "      <td>db_level</td>\n",
       "      <td>70.13739</td>\n",
       "      <td>SB1001</td>\n",
       "    </tr>\n",
       "    <tr>\n",
       "      <th>272930</th>\n",
       "      <td>272930</td>\n",
       "      <td>2022-05-23 05:22:22.392657+00:00</td>\n",
       "      <td>db_level</td>\n",
       "      <td>102.26990</td>\n",
       "      <td>SB1001</td>\n",
       "    </tr>\n",
       "    <tr>\n",
       "      <th>272931</th>\n",
       "      <td>272931</td>\n",
       "      <td>2022-05-23 05:22:52.616672+00:00</td>\n",
       "      <td>db_level</td>\n",
       "      <td>78.22692</td>\n",
       "      <td>SB1001</td>\n",
       "    </tr>\n",
       "    <tr>\n",
       "      <th>272932</th>\n",
       "      <td>272932</td>\n",
       "      <td>2022-05-23 05:23:22.881239+00:00</td>\n",
       "      <td>db_level</td>\n",
       "      <td>65.71063</td>\n",
       "      <td>SB1001</td>\n",
       "    </tr>\n",
       "  </tbody>\n",
       "</table>\n",
       "</div>"
      ],
      "text/plain": [
       "        Unnamed: 0                              date     field      value  \\\n",
       "272928      272928  2022-05-23 05:21:20.257379+00:00  db_level   80.15035   \n",
       "272929      272929  2022-05-23 05:21:51.194415+00:00  db_level   70.13739   \n",
       "272930      272930  2022-05-23 05:22:22.392657+00:00  db_level  102.26990   \n",
       "272931      272931  2022-05-23 05:22:52.616672+00:00  db_level   78.22692   \n",
       "272932      272932  2022-05-23 05:23:22.881239+00:00  db_level   65.71063   \n",
       "\n",
       "       device_id  \n",
       "272928    SB1001  \n",
       "272929    SB1001  \n",
       "272930    SB1001  \n",
       "272931    SB1001  \n",
       "272932    SB1001  "
      ]
     },
     "execution_count": 107,
     "metadata": {},
     "output_type": "execute_result"
    }
   ],
   "source": [
    "# filtering out other values except for 'db_level_\n",
    "df_field_data = ['db_level']\n",
    "new_df = df[df.field.isin(df_field_data)]\n",
    "new_df.head()"
   ]
  },
  {
   "cell_type": "code",
   "execution_count": 108,
   "id": "7f0aca52-b6ef-4657-a0b0-e65640c5ac94",
   "metadata": {},
   "outputs": [
    {
     "data": {
      "text/html": [
       "<div>\n",
       "<style scoped>\n",
       "    .dataframe tbody tr th:only-of-type {\n",
       "        vertical-align: middle;\n",
       "    }\n",
       "\n",
       "    .dataframe tbody tr th {\n",
       "        vertical-align: top;\n",
       "    }\n",
       "\n",
       "    .dataframe thead th {\n",
       "        text-align: right;\n",
       "    }\n",
       "</style>\n",
       "<table border=\"1\" class=\"dataframe\">\n",
       "  <thead>\n",
       "    <tr style=\"text-align: right;\">\n",
       "      <th></th>\n",
       "      <th>Unnamed: 0</th>\n",
       "      <th>date</th>\n",
       "      <th>field</th>\n",
       "      <th>value</th>\n",
       "      <th>device_id</th>\n",
       "    </tr>\n",
       "  </thead>\n",
       "  <tbody>\n",
       "    <tr>\n",
       "      <th>272928</th>\n",
       "      <td>272928</td>\n",
       "      <td>2022-05-23 05:21:20.257379+00:00</td>\n",
       "      <td>db_level</td>\n",
       "      <td>80.15035</td>\n",
       "      <td>SB1001</td>\n",
       "    </tr>\n",
       "    <tr>\n",
       "      <th>272929</th>\n",
       "      <td>272929</td>\n",
       "      <td>2022-05-23 05:21:51.194415+00:00</td>\n",
       "      <td>db_level</td>\n",
       "      <td>70.13739</td>\n",
       "      <td>SB1001</td>\n",
       "    </tr>\n",
       "    <tr>\n",
       "      <th>272930</th>\n",
       "      <td>272930</td>\n",
       "      <td>2022-05-23 05:22:22.392657+00:00</td>\n",
       "      <td>db_level</td>\n",
       "      <td>102.26990</td>\n",
       "      <td>SB1001</td>\n",
       "    </tr>\n",
       "    <tr>\n",
       "      <th>272931</th>\n",
       "      <td>272931</td>\n",
       "      <td>2022-05-23 05:22:52.616672+00:00</td>\n",
       "      <td>db_level</td>\n",
       "      <td>78.22692</td>\n",
       "      <td>SB1001</td>\n",
       "    </tr>\n",
       "    <tr>\n",
       "      <th>272932</th>\n",
       "      <td>272932</td>\n",
       "      <td>2022-05-23 05:23:22.881239+00:00</td>\n",
       "      <td>db_level</td>\n",
       "      <td>65.71063</td>\n",
       "      <td>SB1001</td>\n",
       "    </tr>\n",
       "  </tbody>\n",
       "</table>\n",
       "</div>"
      ],
      "text/plain": [
       "        Unnamed: 0                              date     field      value  \\\n",
       "272928      272928  2022-05-23 05:21:20.257379+00:00  db_level   80.15035   \n",
       "272929      272929  2022-05-23 05:21:51.194415+00:00  db_level   70.13739   \n",
       "272930      272930  2022-05-23 05:22:22.392657+00:00  db_level  102.26990   \n",
       "272931      272931  2022-05-23 05:22:52.616672+00:00  db_level   78.22692   \n",
       "272932      272932  2022-05-23 05:23:22.881239+00:00  db_level   65.71063   \n",
       "\n",
       "       device_id  \n",
       "272928    SB1001  \n",
       "272929    SB1001  \n",
       "272930    SB1001  \n",
       "272931    SB1001  \n",
       "272932    SB1001  "
      ]
     },
     "execution_count": 108,
     "metadata": {},
     "output_type": "execute_result"
    }
   ],
   "source": [
    "new_df.head()\n"
   ]
  },
  {
   "cell_type": "code",
   "execution_count": 144,
   "id": "928eea63",
   "metadata": {},
   "outputs": [
    {
     "data": {
      "text/plain": [
       "<BarContainer object of 5 artists>"
      ]
     },
     "execution_count": 144,
     "metadata": {},
     "output_type": "execute_result"
    },
    {
     "data": {
      "image/png": "[encoded data removed]",
      "text/plain": [
       "<Figure size 576x396 with 1 Axes>"
      ]
     },
     "metadata": {},
     "output_type": "display_data"
    }
   ],
   "source": [
    "fig = plt.figure()\n",
    "plt.title(\"sensor against number of records\")\n",
    "x = [\"new_df\"]\n",
    "y =[0, 100, 1000, 10000,100000]\n",
    "plt.xlabel(\"field\")\n",
    "plt.ylabel(\"values\")\n",
    "plt.bar(x,y)"
   ]
  },
  {
   "cell_type": "code",
   "execution_count": 140,
   "id": "191aa930-9d88-4a8c-bc18-c347d6daf085",
   "metadata": {},
   "outputs": [
    {
     "ename": "ValueError",
     "evalue": "x and y must have same first dimension, but have shapes (4,) and (1,)",
     "output_type": "error",
     "traceback": [
      "\u001b[1;31m---------------------------------------------------------------------------\u001b[0m",
      "\u001b[1;31mValueError\u001b[0m                                Traceback (most recent call last)",
      "Input \u001b[1;32mIn [140]\u001b[0m, in \u001b[0;36m<cell line: 12>\u001b[1;34m()\u001b[0m\n\u001b[0;32m      3\u001b[0m dates \u001b[38;5;241m=\u001b[39m [\n\u001b[0;32m      4\u001b[0m     datetime(\u001b[38;5;241m2022\u001b[39m,\u001b[38;5;241m5\u001b[39m,\u001b[38;5;241m23\u001b[39m),\n\u001b[0;32m      5\u001b[0m     datetime(\u001b[38;5;241m2022\u001b[39m,\u001b[38;5;241m5\u001b[39m,\u001b[38;5;241m24\u001b[39m),\n\u001b[0;32m      6\u001b[0m     datetime(\u001b[38;5;241m2022\u001b[39m,\u001b[38;5;241m5\u001b[39m,\u001b[38;5;241m25\u001b[39m),\n\u001b[0;32m      7\u001b[0m     datetime(\u001b[38;5;241m2022\u001b[39m,\u001b[38;5;241m5\u001b[39m,\u001b[38;5;241m26\u001b[39m),\n\u001b[0;32m      8\u001b[0m ]\n\u001b[0;32m     10\u001b[0m y \u001b[38;5;241m=\u001b[39m [\u001b[38;5;124m\"\u001b[39m\u001b[38;5;124mnew_df\u001b[39m\u001b[38;5;124m\"\u001b[39m]\n\u001b[1;32m---> 12\u001b[0m \u001b[43mplt\u001b[49m\u001b[38;5;241;43m.\u001b[39;49m\u001b[43mplot_date\u001b[49m\u001b[43m(\u001b[49m\u001b[43mdates\u001b[49m\u001b[43m,\u001b[49m\u001b[43m \u001b[49m\u001b[43my\u001b[49m\u001b[43m)\u001b[49m\n\u001b[0;32m     13\u001b[0m plt\u001b[38;5;241m.\u001b[39mtight_layout()\n\u001b[0;32m     14\u001b[0m plt\u001b[38;5;241m.\u001b[39mshow()\n",
      "File \u001b[1;32mc:\\users\\user\\desktop\\internship\\internwork\\sensor-metrics-analysis\\venv\\lib\\site-packages\\matplotlib\\pyplot.py:2779\u001b[0m, in \u001b[0;36mplot_date\u001b[1;34m(x, y, fmt, tz, xdate, ydate, data, **kwargs)\u001b[0m\n\u001b[0;32m   2775\u001b[0m \u001b[38;5;129m@_copy_docstring_and_deprecators\u001b[39m(Axes\u001b[38;5;241m.\u001b[39mplot_date)\n\u001b[0;32m   2776\u001b[0m \u001b[38;5;28;01mdef\u001b[39;00m \u001b[38;5;21mplot_date\u001b[39m(\n\u001b[0;32m   2777\u001b[0m         x, y, fmt\u001b[38;5;241m=\u001b[39m\u001b[38;5;124m'\u001b[39m\u001b[38;5;124mo\u001b[39m\u001b[38;5;124m'\u001b[39m, tz\u001b[38;5;241m=\u001b[39m\u001b[38;5;28;01mNone\u001b[39;00m, xdate\u001b[38;5;241m=\u001b[39m\u001b[38;5;28;01mTrue\u001b[39;00m, ydate\u001b[38;5;241m=\u001b[39m\u001b[38;5;28;01mFalse\u001b[39;00m, \u001b[38;5;241m*\u001b[39m,\n\u001b[0;32m   2778\u001b[0m         data\u001b[38;5;241m=\u001b[39m\u001b[38;5;28;01mNone\u001b[39;00m, \u001b[38;5;241m*\u001b[39m\u001b[38;5;241m*\u001b[39mkwargs):\n\u001b[1;32m-> 2779\u001b[0m     \u001b[38;5;28;01mreturn\u001b[39;00m gca()\u001b[38;5;241m.\u001b[39mplot_date(\n\u001b[0;32m   2780\u001b[0m         x, y, fmt\u001b[38;5;241m=\u001b[39mfmt, tz\u001b[38;5;241m=\u001b[39mtz, xdate\u001b[38;5;241m=\u001b[39mxdate, ydate\u001b[38;5;241m=\u001b[39mydate,\n\u001b[0;32m   2781\u001b[0m         \u001b[38;5;241m*\u001b[39m\u001b[38;5;241m*\u001b[39m({\u001b[38;5;124m\"\u001b[39m\u001b[38;5;124mdata\u001b[39m\u001b[38;5;124m\"\u001b[39m: data} \u001b[38;5;28;01mif\u001b[39;00m data \u001b[38;5;129;01mis\u001b[39;00m \u001b[38;5;129;01mnot\u001b[39;00m \u001b[38;5;28;01mNone\u001b[39;00m \u001b[38;5;28;01melse\u001b[39;00m {}), \u001b[38;5;241m*\u001b[39m\u001b[38;5;241m*\u001b[39mkwargs)\n",
      "File \u001b[1;32mc:\\users\\user\\desktop\\internship\\internwork\\sensor-metrics-analysis\\venv\\lib\\site-packages\\matplotlib\\__init__.py:1412\u001b[0m, in \u001b[0;36m_preprocess_data.<locals>.inner\u001b[1;34m(ax, data, *args, **kwargs)\u001b[0m\n\u001b[0;32m   1409\u001b[0m \u001b[38;5;129m@functools\u001b[39m\u001b[38;5;241m.\u001b[39mwraps(func)\n\u001b[0;32m   1410\u001b[0m \u001b[38;5;28;01mdef\u001b[39;00m \u001b[38;5;21minner\u001b[39m(ax, \u001b[38;5;241m*\u001b[39margs, data\u001b[38;5;241m=\u001b[39m\u001b[38;5;28;01mNone\u001b[39;00m, \u001b[38;5;241m*\u001b[39m\u001b[38;5;241m*\u001b[39mkwargs):\n\u001b[0;32m   1411\u001b[0m     \u001b[38;5;28;01mif\u001b[39;00m data \u001b[38;5;129;01mis\u001b[39;00m \u001b[38;5;28;01mNone\u001b[39;00m:\n\u001b[1;32m-> 1412\u001b[0m         \u001b[38;5;28;01mreturn\u001b[39;00m func(ax, \u001b[38;5;241m*\u001b[39m\u001b[38;5;28mmap\u001b[39m(sanitize_sequence, args), \u001b[38;5;241m*\u001b[39m\u001b[38;5;241m*\u001b[39mkwargs)\n\u001b[0;32m   1414\u001b[0m     bound \u001b[38;5;241m=\u001b[39m new_sig\u001b[38;5;241m.\u001b[39mbind(ax, \u001b[38;5;241m*\u001b[39margs, \u001b[38;5;241m*\u001b[39m\u001b[38;5;241m*\u001b[39mkwargs)\n\u001b[0;32m   1415\u001b[0m     auto_label \u001b[38;5;241m=\u001b[39m (bound\u001b[38;5;241m.\u001b[39marguments\u001b[38;5;241m.\u001b[39mget(label_namer)\n\u001b[0;32m   1416\u001b[0m                   \u001b[38;5;129;01mor\u001b[39;00m bound\u001b[38;5;241m.\u001b[39mkwargs\u001b[38;5;241m.\u001b[39mget(label_namer))\n",
      "File \u001b[1;32mc:\\users\\user\\desktop\\internship\\internwork\\sensor-metrics-analysis\\venv\\lib\\site-packages\\matplotlib\\axes\\_axes.py:1717\u001b[0m, in \u001b[0;36mAxes.plot_date\u001b[1;34m(self, x, y, fmt, tz, xdate, ydate, **kwargs)\u001b[0m\n\u001b[0;32m   1715\u001b[0m \u001b[38;5;28;01mif\u001b[39;00m ydate:\n\u001b[0;32m   1716\u001b[0m     \u001b[38;5;28mself\u001b[39m\u001b[38;5;241m.\u001b[39myaxis_date(tz)\n\u001b[1;32m-> 1717\u001b[0m \u001b[38;5;28;01mreturn\u001b[39;00m \u001b[38;5;28mself\u001b[39m\u001b[38;5;241m.\u001b[39mplot(x, y, fmt, \u001b[38;5;241m*\u001b[39m\u001b[38;5;241m*\u001b[39mkwargs)\n",
      "File \u001b[1;32mc:\\users\\user\\desktop\\internship\\internwork\\sensor-metrics-analysis\\venv\\lib\\site-packages\\matplotlib\\axes\\_axes.py:1632\u001b[0m, in \u001b[0;36mAxes.plot\u001b[1;34m(self, scalex, scaley, data, *args, **kwargs)\u001b[0m\n\u001b[0;32m   1390\u001b[0m \u001b[38;5;124;03m\"\"\"\u001b[39;00m\n\u001b[0;32m   1391\u001b[0m \u001b[38;5;124;03mPlot y versus x as lines and/or markers.\u001b[39;00m\n\u001b[0;32m   1392\u001b[0m \n\u001b[1;32m   (...)\u001b[0m\n\u001b[0;32m   1629\u001b[0m \u001b[38;5;124;03m(``'green'``) or hex strings (``'#008000'``).\u001b[39;00m\n\u001b[0;32m   1630\u001b[0m \u001b[38;5;124;03m\"\"\"\u001b[39;00m\n\u001b[0;32m   1631\u001b[0m kwargs \u001b[38;5;241m=\u001b[39m cbook\u001b[38;5;241m.\u001b[39mnormalize_kwargs(kwargs, mlines\u001b[38;5;241m.\u001b[39mLine2D)\n\u001b[1;32m-> 1632\u001b[0m lines \u001b[38;5;241m=\u001b[39m [\u001b[38;5;241m*\u001b[39m\u001b[38;5;28mself\u001b[39m\u001b[38;5;241m.\u001b[39m_get_lines(\u001b[38;5;241m*\u001b[39margs, data\u001b[38;5;241m=\u001b[39mdata, \u001b[38;5;241m*\u001b[39m\u001b[38;5;241m*\u001b[39mkwargs)]\n\u001b[0;32m   1633\u001b[0m \u001b[38;5;28;01mfor\u001b[39;00m line \u001b[38;5;129;01min\u001b[39;00m lines:\n\u001b[0;32m   1634\u001b[0m     \u001b[38;5;28mself\u001b[39m\u001b[38;5;241m.\u001b[39madd_line(line)\n",
      "File \u001b[1;32mc:\\users\\user\\desktop\\internship\\internwork\\sensor-metrics-analysis\\venv\\lib\\site-packages\\matplotlib\\axes\\_base.py:312\u001b[0m, in \u001b[0;36m_process_plot_var_args.__call__\u001b[1;34m(self, data, *args, **kwargs)\u001b[0m\n\u001b[0;32m    310\u001b[0m     this \u001b[38;5;241m+\u001b[39m\u001b[38;5;241m=\u001b[39m args[\u001b[38;5;241m0\u001b[39m],\n\u001b[0;32m    311\u001b[0m     args \u001b[38;5;241m=\u001b[39m args[\u001b[38;5;241m1\u001b[39m:]\n\u001b[1;32m--> 312\u001b[0m \u001b[38;5;28;01myield from\u001b[39;00m \u001b[38;5;28;43mself\u001b[39;49m\u001b[38;5;241;43m.\u001b[39;49m\u001b[43m_plot_args\u001b[49m\u001b[43m(\u001b[49m\u001b[43mthis\u001b[49m\u001b[43m,\u001b[49m\u001b[43m \u001b[49m\u001b[43mkwargs\u001b[49m\u001b[43m)\u001b[49m\n",
      "File \u001b[1;32mc:\\users\\user\\desktop\\internship\\internwork\\sensor-metrics-analysis\\venv\\lib\\site-packages\\matplotlib\\axes\\_base.py:498\u001b[0m, in \u001b[0;36m_process_plot_var_args._plot_args\u001b[1;34m(self, tup, kwargs, return_kwargs)\u001b[0m\n\u001b[0;32m    495\u001b[0m     \u001b[38;5;28mself\u001b[39m\u001b[38;5;241m.\u001b[39maxes\u001b[38;5;241m.\u001b[39myaxis\u001b[38;5;241m.\u001b[39mupdate_units(y)\n\u001b[0;32m    497\u001b[0m \u001b[38;5;28;01mif\u001b[39;00m x\u001b[38;5;241m.\u001b[39mshape[\u001b[38;5;241m0\u001b[39m] \u001b[38;5;241m!=\u001b[39m y\u001b[38;5;241m.\u001b[39mshape[\u001b[38;5;241m0\u001b[39m]:\n\u001b[1;32m--> 498\u001b[0m     \u001b[38;5;28;01mraise\u001b[39;00m \u001b[38;5;167;01mValueError\u001b[39;00m(\u001b[38;5;124mf\u001b[39m\u001b[38;5;124m\"\u001b[39m\u001b[38;5;124mx and y must have same first dimension, but \u001b[39m\u001b[38;5;124m\"\u001b[39m\n\u001b[0;32m    499\u001b[0m                      \u001b[38;5;124mf\u001b[39m\u001b[38;5;124m\"\u001b[39m\u001b[38;5;124mhave shapes \u001b[39m\u001b[38;5;132;01m{\u001b[39;00mx\u001b[38;5;241m.\u001b[39mshape\u001b[38;5;132;01m}\u001b[39;00m\u001b[38;5;124m and \u001b[39m\u001b[38;5;132;01m{\u001b[39;00my\u001b[38;5;241m.\u001b[39mshape\u001b[38;5;132;01m}\u001b[39;00m\u001b[38;5;124m\"\u001b[39m)\n\u001b[0;32m    500\u001b[0m \u001b[38;5;28;01mif\u001b[39;00m x\u001b[38;5;241m.\u001b[39mndim \u001b[38;5;241m>\u001b[39m \u001b[38;5;241m2\u001b[39m \u001b[38;5;129;01mor\u001b[39;00m y\u001b[38;5;241m.\u001b[39mndim \u001b[38;5;241m>\u001b[39m \u001b[38;5;241m2\u001b[39m:\n\u001b[0;32m    501\u001b[0m     \u001b[38;5;28;01mraise\u001b[39;00m \u001b[38;5;167;01mValueError\u001b[39;00m(\u001b[38;5;124mf\u001b[39m\u001b[38;5;124m\"\u001b[39m\u001b[38;5;124mx and y can be no greater than 2D, but have \u001b[39m\u001b[38;5;124m\"\u001b[39m\n\u001b[0;32m    502\u001b[0m                      \u001b[38;5;124mf\u001b[39m\u001b[38;5;124m\"\u001b[39m\u001b[38;5;124mshapes \u001b[39m\u001b[38;5;132;01m{\u001b[39;00mx\u001b[38;5;241m.\u001b[39mshape\u001b[38;5;132;01m}\u001b[39;00m\u001b[38;5;124m and \u001b[39m\u001b[38;5;132;01m{\u001b[39;00my\u001b[38;5;241m.\u001b[39mshape\u001b[38;5;132;01m}\u001b[39;00m\u001b[38;5;124m\"\u001b[39m)\n",
      "\u001b[1;31mValueError\u001b[0m: x and y must have same first dimension, but have shapes (4,) and (1,)"
     ]
    },
    {
     "data": {
      "image/png": "[encoded data removed]",
      "text/plain": [
       "<Figure size 576x396 with 1 Axes>"
      ]
     },
     "metadata": {},
     "output_type": "display_data"
    }
   ],
   "source": [
    "plt.style.use('seaborn')\n",
    "\n",
    "dates = [\n",
    "    datetime(2022,5,23),\n",
    "    datetime(2022,5,24),\n",
    "    datetime(2022,5,25),\n",
    "    datetime(2022,5,26),\n",
    "]\n",
    "\n",
    "y = [\"new_df\"]\n",
    "\n",
    "plt.plot_date(dates, y)\n",
    "plt.tight_layout()\n",
    "plt.show()\n",
    "plt.plot_date(dates, y, linestyle ='solid')\n",
    "\n",
    "plt.gcf().autofmt_xdate"
   ]
  },
  {
   "cell_type": "code",
   "execution_count": null,
   "id": "5e5080e3-3b2a-4f1f-9fe9-d4e564395b73",
   "metadata": {},
   "outputs": [],
   "source": []
  },
  {
   "cell_type": "code",
   "execution_count": null,
   "id": "6f211182-97f5-49d1-a42e-7bf57d1724f2",
   "metadata": {},
   "outputs": [],
   "source": []
  },
  {
   "cell_type": "code",
   "execution_count": null,
   "id": "a9fcbacf-0196-4213-8ab3-1d409397c139",
   "metadata": {},
   "outputs": [],
   "source": []
  },
  {
   "cell_type": "code",
   "execution_count": null,
   "id": "c3a89235-e001-45f3-92a3-5e9d68745971",
   "metadata": {},
   "outputs": [],
   "source": []
  }
 ],
 "metadata": {
  "kernelspec": {
   "display_name": "Python 3 (ipykernel)",
   "language": "python",
   "name": "python3"
  },
  "language_info": {
   "codemirror_mode": {
    "name": "ipython",
    "version": 3
   },
   "file_extension": ".py",
   "mimetype": "text/x-python",
   "name": "python",
   "nbconvert_exporter": "python",
   "pygments_lexer": "ipython3",
   "version": "3.9.6"
  },
  "vscode": {
   "interpreter": {
    "hash": "82ed002fa2d4956f5c6aec99bcefe0f73a9f79882f3c9e2319b14958a5896ac5"
   }
  }
 },
 "nbformat": 4,
 "nbformat_minor": 5
}
